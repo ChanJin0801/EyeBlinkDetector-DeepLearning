{
 "cells": [
  {
   "cell_type": "code",
   "execution_count": 3,
   "metadata": {},
   "outputs": [
    {
     "name": "stderr",
     "output_type": "stream",
     "text": [
      "Using TensorFlow backend.\n"
     ]
    }
   ],
   "source": [
    "import datetime\n",
    "import numpy as np\n",
    "import matplotlib.pyplot as plt\n",
    "from keras.layers import Input, Activation, Conv2D, Flatten, Dense, MaxPooling2D\n",
    "from keras.models import Model, load_model\n",
    "from keras.preprocessing.image import ImageDataGenerator\n",
    "from keras.callbacks import ModelCheckpoint, ReduceLROnPlateau\n",
    "plt.style.use('dark_background')"
   ]
  },
  {
   "cell_type": "markdown",
   "metadata": {},
   "source": [
    "# Load Dataset"
   ]
  },
  {
   "cell_type": "markdown",
   "metadata": {},
   "source": [
    "(2586 data, 26 height, 34 width, 1 black) (2586 answers, 0 or 1 blink or not)"
   ]
  },
  {
   "cell_type": "code",
   "execution_count": 4,
   "metadata": {},
   "outputs": [
    {
     "name": "stdout",
     "output_type": "stream",
     "text": [
      "(2586, 26, 34, 1) (2586, 1)\n",
      "(288, 26, 34, 1) (288, 1)\n"
     ]
    }
   ],
   "source": [
    "x_train = np.load('dataset/x_train.npy').astype(np.float32)\n",
    "y_train = np.load('dataset/y_train.npy').astype(np.float32)\n",
    "x_val = np.load('dataset/x_val.npy').astype(np.float32)\n",
    "y_val = np.load('dataset/y_val.npy').astype(np.float32)\n",
    "\n",
    "print(x_train.shape, y_train.shape)\n",
    "print(x_val.shape, y_val.shape)"
   ]
  },
  {
   "cell_type": "markdown",
   "metadata": {},
   "source": [
    "# Preview"
   ]
  },
  {
   "cell_type": "code",
   "execution_count": 5,
   "metadata": {},
   "outputs": [
    {
     "data": {
      "text/plain": [
       "<matplotlib.image.AxesImage at 0x135ea8210>"
      ]
     },
     "execution_count": 5,
     "metadata": {},
     "output_type": "execute_result"
    },
    {
     "data": {
      "image/png": "[encoded data removed]",
      "text/plain": [
       "<Figure size 432x288 with 2 Axes>"
      ]
     },
     "metadata": {},
     "output_type": "display_data"
    }
   ],
   "source": [
    "plt.subplot(2, 1, 1)\n",
    "plt.title(str(y_train[0]))\n",
    "plt.imshow(x_train[0].reshape((26, 34)), cmap='gray')\n",
    "plt.subplot(2, 1, 2)\n",
    "plt.title(str(y_val[4]))\n",
    "plt.imshow(x_val[4].reshape((26, 34)), cmap='gray')"
   ]
  },
  {
   "cell_type": "markdown",
   "metadata": {},
   "source": [
    "# Data Augmentation"
   ]
  },
  {
   "cell_type": "markdown",
   "metadata": {},
   "source": [
    "if data shifted a bit, train is more effective. Bcs more diverse data come out"
   ]
  },
  {
   "cell_type": "code",
   "execution_count": 7,
   "metadata": {},
   "outputs": [],
   "source": [
    "train_datagen = ImageDataGenerator(\n",
    "    rescale = 1./255,\n",
    "    rotation_range = 10,\n",
    "    width_shift_range = 0.2,\n",
    "    height_shift_range = 0.2,\n",
    "    shear_range = 0.2\n",
    ")\n",
    "\n",
    "val_datagen = ImageDataGenerator(rescale = 1./255)\n",
    "\n",
    "train_generator = train_datagen.flow(\n",
    "    x=x_train, y=y_train,\n",
    "    batch_size=32,\n",
    "    shuffle=True\n",
    ")\n",
    "\n",
    "val_generator = val_datagen.flow(\n",
    "    x=x_val, y=y_val,\n",
    "    batch_size=32,\n",
    "    shuffle=False\n",
    ")"
   ]
  },
  {
   "cell_type": "markdown",
   "metadata": {},
   "source": [
    "# Build Model"
   ]
  },
  {
   "cell_type": "code",
   "execution_count": 8,
   "metadata": {},
   "outputs": [
    {
     "name": "stdout",
     "output_type": "stream",
     "text": [
      "Model: \"model_1\"\n",
      "_________________________________________________________________\n",
      "Layer (type)                 Output Shape              Param #   \n",
      "=================================================================\n",
      "input_1 (InputLayer)         (None, 26, 34, 1)         0         \n",
      "_________________________________________________________________\n",
      "conv2d_1 (Conv2D)            (None, 26, 34, 32)        320       \n",
      "_________________________________________________________________\n",
      "max_pooling2d_1 (MaxPooling2 (None, 13, 17, 32)        0         \n",
      "_________________________________________________________________\n",
      "conv2d_2 (Conv2D)            (None, 13, 17, 64)        18496     \n",
      "_________________________________________________________________\n",
      "max_pooling2d_2 (MaxPooling2 (None, 6, 8, 64)          0         \n",
      "_________________________________________________________________\n",
      "conv2d_3 (Conv2D)            (None, 6, 8, 128)         73856     \n",
      "_________________________________________________________________\n",
      "max_pooling2d_3 (MaxPooling2 (None, 3, 4, 128)         0         \n",
      "_________________________________________________________________\n",
      "flatten_1 (Flatten)          (None, 1536)              0         \n",
      "_________________________________________________________________\n",
      "dense_1 (Dense)              (None, 512)               786944    \n",
      "_________________________________________________________________\n",
      "activation_1 (Activation)    (None, 512)               0         \n",
      "_________________________________________________________________\n",
      "dense_2 (Dense)              (None, 1)                 513       \n",
      "_________________________________________________________________\n",
      "activation_2 (Activation)    (None, 1)                 0         \n",
      "=================================================================\n",
      "Total params: 880,129\n",
      "Trainable params: 880,129\n",
      "Non-trainable params: 0\n",
      "_________________________________________________________________\n"
     ]
    }
   ],
   "source": [
    "inputs = Input(shape=(26, 34, 1))\n",
    "\n",
    "net = Conv2D(32, kernel_size=3, strides=1, padding='same', activation='relu')(inputs)\n",
    "net = MaxPooling2D(pool_size=2)(net)\n",
    "\n",
    "net = Conv2D(64, kernel_size=3, strides=1, padding='same', activation='relu')(net)\n",
    "net = MaxPooling2D(pool_size=2)(net)\n",
    "\n",
    "net = Conv2D(128, kernel_size=3, strides=1, padding='same', activation='relu')(net)\n",
    "net = MaxPooling2D(pool_size=2)(net)\n",
    "\n",
    "net = Flatten()(net)\n",
    "\n",
    "net = Dense(512)(net)\n",
    "net = Activation('relu')(net)\n",
    "net = Dense(1)(net)\n",
    "\n",
    "outputs = Activation('sigmoid')(net)\n",
    "\n",
    "model = Model(inputs=inputs, outputs=outputs)\n",
    "\n",
    "model.compile(optimizer='adam', loss='binary_crossentropy', metrics=['acc'])\n",
    "\n",
    "model.summary()"
   ]
  },
  {
   "cell_type": "markdown",
   "metadata": {},
   "source": [
    "# Train"
   ]
  },
  {
   "cell_type": "code",
   "execution_count": 9,
   "metadata": {},
   "outputs": [
    {
     "name": "stdout",
     "output_type": "stream",
     "text": [
      "Epoch 1/50\n",
      "81/81 [==============================] - 5s 63ms/step - loss: 0.4378 - acc: 0.7939 - val_loss: 0.2449 - val_acc: 0.9236\n",
      "\n",
      "Epoch 00001: val_acc improved from -inf to 0.92361, saving model to models/2019_11_15_16_04_01.h5\n",
      "Epoch 2/50\n",
      "81/81 [==============================] - 5s 56ms/step - loss: 0.2482 - acc: 0.9053 - val_loss: 0.1344 - val_acc: 0.9653\n",
      "\n",
      "Epoch 00002: val_acc improved from 0.92361 to 0.96528, saving model to models/2019_11_15_16_04_01.h5\n",
      "Epoch 3/50\n",
      "81/81 [==============================] - 5s 56ms/step - loss: 0.1658 - acc: 0.9435 - val_loss: 0.1327 - val_acc: 0.9618\n",
      "\n",
      "Epoch 00003: val_acc did not improve from 0.96528\n",
      "Epoch 4/50\n",
      "81/81 [==============================] - 5s 56ms/step - loss: 0.1363 - acc: 0.9493 - val_loss: 0.0876 - val_acc: 0.9722\n",
      "\n",
      "Epoch 00004: val_acc improved from 0.96528 to 0.97222, saving model to models/2019_11_15_16_04_01.h5\n",
      "Epoch 5/50\n",
      "81/81 [==============================] - 4s 55ms/step - loss: 0.1270 - acc: 0.9540 - val_loss: 0.0889 - val_acc: 0.9826\n",
      "\n",
      "Epoch 00005: val_acc improved from 0.97222 to 0.98264, saving model to models/2019_11_15_16_04_01.h5\n",
      "Epoch 6/50\n",
      "81/81 [==============================] - 5s 56ms/step - loss: 0.0948 - acc: 0.9737 - val_loss: 0.0479 - val_acc: 0.9757\n",
      "\n",
      "Epoch 00006: val_acc did not improve from 0.98264\n",
      "Epoch 7/50\n",
      "81/81 [==============================] - 5s 56ms/step - loss: 0.0962 - acc: 0.9698 - val_loss: 0.0248 - val_acc: 0.9931\n",
      "\n",
      "Epoch 00007: val_acc improved from 0.98264 to 0.99306, saving model to models/2019_11_15_16_04_01.h5\n",
      "Epoch 8/50\n",
      "81/81 [==============================] - 5s 56ms/step - loss: 0.0687 - acc: 0.9791 - val_loss: 0.0526 - val_acc: 0.9792\n",
      "\n",
      "Epoch 00008: val_acc did not improve from 0.99306\n",
      "Epoch 9/50\n",
      "81/81 [==============================] - 5s 56ms/step - loss: 0.0611 - acc: 0.9787 - val_loss: 0.0318 - val_acc: 0.9861\n",
      "\n",
      "Epoch 00009: val_acc did not improve from 0.99306\n",
      "Epoch 10/50\n",
      "81/81 [==============================] - 5s 56ms/step - loss: 0.0495 - acc: 0.9830 - val_loss: 0.0628 - val_acc: 0.9618\n",
      "\n",
      "Epoch 00010: val_acc did not improve from 0.99306\n",
      "Epoch 11/50\n",
      "81/81 [==============================] - 5s 57ms/step - loss: 0.0869 - acc: 0.9718 - val_loss: 0.0296 - val_acc: 0.9965\n",
      "\n",
      "Epoch 00011: val_acc improved from 0.99306 to 0.99653, saving model to models/2019_11_15_16_04_01.h5\n",
      "Epoch 12/50\n",
      "81/81 [==============================] - 5s 56ms/step - loss: 0.0378 - acc: 0.9857 - val_loss: 0.0342 - val_acc: 0.9931\n",
      "\n",
      "Epoch 00012: val_acc did not improve from 0.99653\n",
      "Epoch 13/50\n",
      "81/81 [==============================] - 5s 58ms/step - loss: 0.0505 - acc: 0.9830 - val_loss: 0.0491 - val_acc: 0.9861\n",
      "\n",
      "Epoch 00013: val_acc did not improve from 0.99653\n",
      "Epoch 14/50\n",
      "81/81 [==============================] - 5s 57ms/step - loss: 0.0449 - acc: 0.9876 - val_loss: 0.0283 - val_acc: 0.9896\n",
      "\n",
      "Epoch 00014: val_acc did not improve from 0.99653\n",
      "Epoch 15/50\n",
      "81/81 [==============================] - 5s 56ms/step - loss: 0.0306 - acc: 0.9903 - val_loss: 0.0474 - val_acc: 0.9861\n",
      "\n",
      "Epoch 00015: val_acc did not improve from 0.99653\n",
      "Epoch 16/50\n",
      "81/81 [==============================] - 5s 57ms/step - loss: 0.0327 - acc: 0.9919 - val_loss: 0.0092 - val_acc: 0.9965\n",
      "\n",
      "Epoch 00016: val_acc did not improve from 0.99653\n",
      "Epoch 17/50\n",
      "81/81 [==============================] - 5s 58ms/step - loss: 0.0342 - acc: 0.9884 - val_loss: 0.0118 - val_acc: 1.0000\n",
      "\n",
      "Epoch 00017: val_acc improved from 0.99653 to 1.00000, saving model to models/2019_11_15_16_04_01.h5\n",
      "Epoch 18/50\n",
      "81/81 [==============================] - 5s 57ms/step - loss: 0.0304 - acc: 0.9903 - val_loss: 0.0380 - val_acc: 0.9965\n",
      "\n",
      "Epoch 00018: val_acc did not improve from 1.00000\n",
      "Epoch 19/50\n",
      "81/81 [==============================] - 5s 58ms/step - loss: 0.0297 - acc: 0.9903 - val_loss: 0.0171 - val_acc: 0.9965\n",
      "\n",
      "Epoch 00019: val_acc did not improve from 1.00000\n",
      "Epoch 20/50\n",
      "81/81 [==============================] - 5s 59ms/step - loss: 0.0222 - acc: 0.9915 - val_loss: 0.0018 - val_acc: 1.0000\n",
      "\n",
      "Epoch 00020: val_acc did not improve from 1.00000\n",
      "Epoch 21/50\n",
      "81/81 [==============================] - 5s 58ms/step - loss: 0.0265 - acc: 0.9919 - val_loss: 0.0024 - val_acc: 1.0000\n",
      "\n",
      "Epoch 00021: val_acc did not improve from 1.00000\n",
      "Epoch 22/50\n",
      "81/81 [==============================] - 5s 58ms/step - loss: 0.0232 - acc: 0.9930 - val_loss: 0.0072 - val_acc: 1.0000\n",
      "\n",
      "Epoch 00022: val_acc did not improve from 1.00000\n",
      "Epoch 23/50\n",
      "81/81 [==============================] - 5s 57ms/step - loss: 0.0297 - acc: 0.9911 - val_loss: 0.0065 - val_acc: 0.9931\n",
      "\n",
      "Epoch 00023: val_acc did not improve from 1.00000\n",
      "Epoch 24/50\n",
      "81/81 [==============================] - 5s 57ms/step - loss: 0.0329 - acc: 0.9865 - val_loss: 0.0032 - val_acc: 1.0000\n",
      "\n",
      "Epoch 00024: val_acc did not improve from 1.00000\n",
      "Epoch 25/50\n",
      "81/81 [==============================] - 5s 57ms/step - loss: 0.0281 - acc: 0.9923 - val_loss: 0.0064 - val_acc: 0.9965\n",
      "\n",
      "Epoch 00025: val_acc did not improve from 1.00000\n",
      "Epoch 26/50\n",
      "81/81 [==============================] - 5s 57ms/step - loss: 0.0260 - acc: 0.9899 - val_loss: 0.0020 - val_acc: 0.9965\n",
      "\n",
      "Epoch 00026: val_acc did not improve from 1.00000\n",
      "Epoch 27/50\n",
      "81/81 [==============================] - 5s 57ms/step - loss: 0.0164 - acc: 0.9934 - val_loss: 0.0131 - val_acc: 0.9965\n",
      "\n",
      "Epoch 00027: val_acc did not improve from 1.00000\n",
      "\n",
      "Epoch 00027: ReduceLROnPlateau reducing learning rate to 0.00020000000949949026.\n",
      "Epoch 28/50\n",
      "81/81 [==============================] - 5s 58ms/step - loss: 0.0201 - acc: 0.9930 - val_loss: 0.0071 - val_acc: 0.9931\n",
      "\n",
      "Epoch 00028: val_acc did not improve from 1.00000\n",
      "Epoch 29/50\n",
      "81/81 [==============================] - 5s 58ms/step - loss: 0.0090 - acc: 0.9973 - val_loss: 0.0026 - val_acc: 0.9965\n",
      "\n",
      "Epoch 00029: val_acc did not improve from 1.00000\n",
      "Epoch 30/50\n",
      "81/81 [==============================] - 5s 57ms/step - loss: 0.0106 - acc: 0.9977 - val_loss: 0.0020 - val_acc: 0.9965\n",
      "\n",
      "Epoch 00030: val_acc did not improve from 1.00000\n",
      "Epoch 31/50\n",
      "81/81 [==============================] - 5s 57ms/step - loss: 0.0114 - acc: 0.9954 - val_loss: 0.0027 - val_acc: 1.0000\n",
      "\n",
      "Epoch 00031: val_acc did not improve from 1.00000\n",
      "Epoch 32/50\n",
      "81/81 [==============================] - 5s 58ms/step - loss: 0.0082 - acc: 0.9969 - val_loss: 0.0022 - val_acc: 1.0000\n",
      "\n",
      "Epoch 00032: val_acc did not improve from 1.00000\n",
      "Epoch 33/50\n",
      "81/81 [==============================] - 5s 57ms/step - loss: 0.0062 - acc: 0.9977 - val_loss: 0.0029 - val_acc: 0.9965\n",
      "\n",
      "Epoch 00033: val_acc did not improve from 1.00000\n",
      "Epoch 34/50\n",
      "81/81 [==============================] - 5s 58ms/step - loss: 0.0091 - acc: 0.9961 - val_loss: 0.0012 - val_acc: 1.0000\n",
      "\n",
      "Epoch 00034: val_acc did not improve from 1.00000\n",
      "Epoch 35/50\n",
      "81/81 [==============================] - 5s 58ms/step - loss: 0.0098 - acc: 0.9965 - val_loss: 0.0033 - val_acc: 1.0000\n",
      "\n",
      "Epoch 00035: val_acc did not improve from 1.00000\n",
      "Epoch 36/50\n",
      "81/81 [==============================] - 5s 58ms/step - loss: 0.0058 - acc: 0.9988 - val_loss: 0.0012 - val_acc: 1.0000\n",
      "\n",
      "Epoch 00036: val_acc did not improve from 1.00000\n",
      "Epoch 37/50\n",
      "81/81 [==============================] - 5s 58ms/step - loss: 0.0084 - acc: 0.9973 - val_loss: 0.0012 - val_acc: 1.0000\n",
      "\n",
      "Epoch 00037: val_acc did not improve from 1.00000\n",
      "\n",
      "Epoch 00037: ReduceLROnPlateau reducing learning rate to 4.0000001899898055e-05.\n",
      "Epoch 38/50\n",
      "81/81 [==============================] - 5s 58ms/step - loss: 0.0073 - acc: 0.9969 - val_loss: 0.0018 - val_acc: 1.0000\n",
      "\n",
      "Epoch 00038: val_acc did not improve from 1.00000\n",
      "Epoch 39/50\n",
      "81/81 [==============================] - 5s 58ms/step - loss: 0.0032 - acc: 0.9992 - val_loss: 0.0013 - val_acc: 1.0000\n",
      "\n",
      "Epoch 00039: val_acc did not improve from 1.00000\n",
      "Epoch 40/50\n",
      "81/81 [==============================] - 5s 58ms/step - loss: 0.0057 - acc: 0.9977 - val_loss: 0.0012 - val_acc: 0.9965\n",
      "\n",
      "Epoch 00040: val_acc did not improve from 1.00000\n",
      "Epoch 41/50\n",
      "81/81 [==============================] - 5s 58ms/step - loss: 0.0035 - acc: 0.9992 - val_loss: 0.0011 - val_acc: 1.0000\n",
      "\n",
      "Epoch 00041: val_acc did not improve from 1.00000\n",
      "Epoch 42/50\n",
      "81/81 [==============================] - 5s 58ms/step - loss: 0.0029 - acc: 0.9992 - val_loss: 0.0011 - val_acc: 1.0000\n",
      "\n",
      "Epoch 00042: val_acc did not improve from 1.00000\n",
      "Epoch 43/50\n"
     ]
    },
    {
     "name": "stdout",
     "output_type": "stream",
     "text": [
      "81/81 [==============================] - 4s 54ms/step - loss: 0.0056 - acc: 0.9985 - val_loss: 0.0015 - val_acc: 0.9965\n",
      "\n",
      "Epoch 00043: val_acc did not improve from 1.00000\n",
      "Epoch 44/50\n",
      "81/81 [==============================] - 4s 54ms/step - loss: 0.0068 - acc: 0.9969 - val_loss: 0.0016 - val_acc: 0.9965\n",
      "\n",
      "Epoch 00044: val_acc did not improve from 1.00000\n",
      "Epoch 45/50\n",
      "81/81 [==============================] - 4s 54ms/step - loss: 0.0054 - acc: 0.9985 - val_loss: 0.0014 - val_acc: 0.9965\n",
      "\n",
      "Epoch 00045: val_acc did not improve from 1.00000\n",
      "Epoch 46/50\n",
      "81/81 [==============================] - 4s 54ms/step - loss: 0.0038 - acc: 0.9985 - val_loss: 0.0011 - val_acc: 0.9965\n",
      "\n",
      "Epoch 00046: val_acc did not improve from 1.00000\n",
      "Epoch 47/50\n",
      "81/81 [==============================] - 4s 54ms/step - loss: 0.0043 - acc: 0.9996 - val_loss: 8.2635e-04 - val_acc: 1.0000\n",
      "\n",
      "Epoch 00047: val_acc did not improve from 1.00000\n",
      "\n",
      "Epoch 00047: ReduceLROnPlateau reducing learning rate to 1e-05.\n",
      "Epoch 48/50\n",
      "81/81 [==============================] - 4s 54ms/step - loss: 0.0040 - acc: 0.9988 - val_loss: 7.8698e-04 - val_acc: 1.0000\n",
      "\n",
      "Epoch 00048: val_acc did not improve from 1.00000\n",
      "Epoch 49/50\n",
      "81/81 [==============================] - 4s 54ms/step - loss: 0.0042 - acc: 0.9992 - val_loss: 7.3319e-04 - val_acc: 1.0000\n",
      "\n",
      "Epoch 00049: val_acc did not improve from 1.00000\n",
      "Epoch 50/50\n",
      "81/81 [==============================] - 4s 54ms/step - loss: 0.0056 - acc: 0.9981 - val_loss: 8.9847e-04 - val_acc: 1.0000\n",
      "\n",
      "Epoch 00050: val_acc did not improve from 1.00000\n"
     ]
    },
    {
     "data": {
      "text/plain": [
       "<keras.callbacks.callbacks.History at 0x13722b9d0>"
      ]
     },
     "execution_count": 9,
     "metadata": {},
     "output_type": "execute_result"
    }
   ],
   "source": [
    "start_time = datetime.datetime.now().strftime('%Y_%m_%d_%H_%M_%S')\n",
    "\n",
    "model.fit_generator(\n",
    "    train_generator, epochs=50, validation_data=val_generator,\n",
    "    callbacks=[\n",
    "        ModelCheckpoint('models/%s.h5' % (start_time), monitor='val_acc', save_best_only=True, mode='max', verbose=1),\n",
    "        ReduceLROnPlateau(monitor='val_acc', factor=0.2, patience=10, verbose=1, mode='auto', min_lr=1e-05)\n",
    "    ]\n",
    ")"
   ]
  },
  {
   "cell_type": "markdown",
   "metadata": {},
   "source": [
    "# Confusion Matrix"
   ]
  },
  {
   "cell_type": "code",
   "execution_count": 10,
   "metadata": {},
   "outputs": [
    {
     "name": "stdout",
     "output_type": "stream",
     "text": [
      "test acc: 1.0\n"
     ]
    },
    {
     "data": {
      "text/plain": [
       "<matplotlib.axes._subplots.AxesSubplot at 0x1378a86d0>"
      ]
     },
     "execution_count": 10,
     "metadata": {},
     "output_type": "execute_result"
    },
    {
     "data": {
      "image/png": "[encoded data removed]",
      "text/plain": [
       "<Figure size 432x288 with 2 Axes>"
      ]
     },
     "metadata": {},
     "output_type": "display_data"
    }
   ],
   "source": [
    "from sklearn.metrics import accuracy_score, confusion_matrix\n",
    "import seaborn as sns\n",
    "\n",
    "model = load_model('models/%s.h5' % (start_time))\n",
    "\n",
    "y_pred = model.predict(x_val/255.)\n",
    "y_pred_logical = (y_pred > 0.5).astype(np.int)\n",
    "\n",
    "print ('test acc: %s' % accuracy_score(y_val, y_pred_logical))\n",
    "cm = confusion_matrix(y_val, y_pred_logical)\n",
    "sns.heatmap(cm, annot=True)"
   ]
  },
  {
   "cell_type": "code",
   "execution_count": null,
   "metadata": {},
   "outputs": [],
   "source": []
  }
 ],
 "metadata": {
  "kernelspec": {
   "display_name": "Python 3",
   "language": "python",
   "name": "python3"
  },
  "language_info": {
   "codemirror_mode": {
    "name": "ipython",
    "version": 3
   },
   "file_extension": ".py",
   "mimetype": "text/x-python",
   "name": "python",
   "nbconvert_exporter": "python",
   "pygments_lexer": "ipython3",
   "version": "3.7.4"
  }
 },
 "nbformat": 4,
 "nbformat_minor": 1
}
